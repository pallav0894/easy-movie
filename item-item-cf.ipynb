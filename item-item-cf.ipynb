{
 "cells": [
  {
   "cell_type": "code",
   "execution_count": 7,
   "metadata": {
    "collapsed": true
   },
   "outputs": [],
   "source": [
    "import pandas as pd\n",
    "import numpy as np\n",
    "import math\n",
    "from sklearn.model_selection import train_test_split"
   ]
  },
  {
   "cell_type": "code",
   "execution_count": 31,
   "metadata": {},
   "outputs": [
    {
     "name": "stdout",
     "output_type": "stream",
     "text": [
      "       userId  movieId  rating\n43321     290     1357     4.0\n27351     186      969     5.0\n13899      89   105540     4.5\n63852     414     5064     4.0\n28202     195     2770     4.0\n       userId  movieId  rating\n91446     593     2336     4.5\n66730     430     1372     4.0\n98658     607     3994     3.0\n16699     105    74458     5.0\n52201     339    45210     4.5\n"
     ]
    }
   ],
   "source": [
    "# Read the ratings data\n",
    "ratings = pd.read_csv(\"./data/ml-latest-small/ratings.csv\")\n",
    "movies = pd.read_csv(\"./data/ml-latest-small/movies.csv\")\n",
    "tags = pd.read_csv(\"./data/ml-latest-small/tags.csv\")\n",
    "ratings.drop(\"timestamp\", axis=1, inplace=True)\n",
    "print(ratings.head(5))"
   ]
  },
  {
   "cell_type": "code",
   "execution_count": 32,
   "metadata": {},
   "outputs": [
    {
     "name": "stdout",
     "output_type": "stream",
     "text": [
      "       userId  movieId  rating\n43321     290     1357     4.0\n27351     186      969     5.0\n13899      89   105540     4.5\n63852     414     5064     4.0\n28202     195     2770     4.0\n       userId  movieId  rating\n91446     593     2336     4.5\n66730     430     1372     4.0\n98658     607     3994     3.0\n16699     105    74458     5.0\n52201     339    45210     4.5\n"
     ]
    }
   ],
   "source": [
    "ratings_train, ratings_test = train_test_split(ratings, test_size=0.2)\n",
    "\n",
    "print(ratings_train.head(5))\n",
    "print(ratings_test.head(5))\n"
   ]
  },
  {
   "cell_type": "code",
   "execution_count": 34,
   "metadata": {},
   "outputs": [
    {
     "name": "stdout",
     "output_type": "stream",
     "text": [
      "   movieId  rating_mean\n0     1357     3.944444\n1      969     4.038462\n2   105540     4.500000\n3     5064     3.840000\n4     2770     2.940000\n   userId  movieId  rating  rating_mean  adjusted_rating\n0     290     1357     4.0     3.944444     5.555556e-02\n1     186      969     5.0     4.038462     9.615385e-01\n2      89   105540     4.5     4.500000     1.000000e-08\n3     414     5064     4.0     3.840000     1.600000e-01\n4     195     2770     4.0     2.940000     1.060000e+00\n"
     ]
    }
   ],
   "source": [
    "# Calculating the mean adjusted ratings of each user\n",
    "mean = ratings_train.groupby(['movieId'], as_index=False, sort=False).mean().rename(columns = {'rating': 'rating_mean'})[['movieId', 'rating_mean']]\n",
    "print(mean.head(5)) \n",
    "adjusted_ratings = pd.merge(ratings_train, mean, on=\"movieId\", how='left', sort=False)\n",
    "adjusted_ratings[\"adjusted_rating\"] = adjusted_ratings[\"rating\"] - adjusted_ratings[\"rating_mean\"]\n",
    "adjusted_ratings.loc[adjusted_ratings['adjusted_rating'] == 0, 'adjusted_rating'] = 1e-8\n",
    "print(adjusted_ratings.head(5))"
   ]
  },
  {
   "cell_type": "code",
   "execution_count": 35,
   "metadata": {},
   "outputs": [
    {
     "ename": "SyntaxError",
     "evalue": "unexpected EOF while parsing (<ipython-input-35-7f4e0a7492d8>, line 53)",
     "traceback": [
      "\u001b[0;36m  File \u001b[0;32m\"<ipython-input-35-7f4e0a7492d8>\"\u001b[0;36m, line \u001b[0;32m53\u001b[0m\n\u001b[0;31m    \u001b[0m\n\u001b[0m    ^\u001b[0m\n\u001b[0;31mSyntaxError\u001b[0m\u001b[0;31m:\u001b[0m unexpected EOF while parsing\n"
     ],
     "output_type": "error"
    }
   ],
   "source": [
    "# Build item-item similarity matrix\n",
    "def build_similarity_matrix(adjusted_ratings):\n",
    "\n",
    "    w_matrix_columns = ['movie_1', 'movie_2', 'weight']\n",
    "    w_matrix = pd.DataFrame(columns=w_matrix_columns)\n",
    "    \n",
    "    distinct_movies = np.unique(adjusted_ratings['movieId'])\n",
    "    i = 0\n",
    "    no_of_movies = len(distinct_movies)\n",
    "    \n",
    "    for movie_1 in distinct_movies:\n",
    "        \n",
    "        if i%10 == 0:\n",
    "            print(\"Processed \", i, \"out of\", no_of_movies)\n",
    "        \n",
    "        #Extract all users that rated this movie\n",
    "        user_data = adjusted_ratings[adjusted_ratings[\"movieId\"] == movie_1]\n",
    "        distinct_users = np.unique(user_data['userId'])\n",
    "        \n",
    "        #record these columns\n",
    "        record_columns = [\"userId\", \"movie_1\", \"movie_2\", \"adjusted_rating_1\", \"adjusted_rating_2\"]\n",
    "        record_movie_1_2 = pd.DataFrame(columns=record_columns)\n",
    "        \n",
    "        for user_id in distinct_users:\n",
    "            # The user user_id's rating for movie_1\n",
    "            c_movie_1_rating = user_data[user_data['userId'] == user_id]['adjusted_rating'].iloc[0]\n",
    "            \n",
    "            #Extract movies rated by this user excluding movie_1\n",
    "            c_user_data = adjusted_ratings[(adjusted_ratings[\"userId\"] == user_id) & (adjusted_ratings[\"movieId\"] != movie_1)]\n",
    "            c_distinct_movies = np.unique(c_user_data[\"movieId\"])\n",
    "            \n",
    "            for movie_2 in c_distinct_movies:\n",
    "                c_movie_2_rating = c_user_data[c_user_data[\"movieId\"] == movie_2]['adjusted_rating'].iloc[0]\n",
    "                record_row = pd.Series([user_id, movie_1, movie_2, c_movie_1_rating, c_movie_2_rating], index=record_columns)\n",
    "                \n",
    "                record_movie_1_2 = record_movie_1_2.append(record_row, ignore_index=True)\n",
    "        \n",
    "        distinct_movie_2 = np.unique(record_movie_1_2['movie_2'])\n",
    "        \n",
    "        # Calculate similarity between movie 1 and all above recorded movies\n",
    "        for movie_2 in distinct_movie_2:\n",
    "            paired_movie_1_2 = record_movie_1_2[record_movie_1_2[\"movie_2\"] == movie_2]\n",
    "            sim_value_numerator = (paired_movie_1_2['adjusted_rating_1'] * paired_movie_1_2['adjusted_rating_2']).sum()\n",
    "            sim_value_denominator = np.sqrt(np.square(paired_movie_1_2['adjusted_rating_1']).sum()) * np.sqrt(np.square(paired_movie_1_2['adjusted_rating_2']).sum())\n",
    "            \n",
    "            sim_value_denominator = sim_value_denominator if sim_value_denominator != 0 else 1e-8\n",
    "            sim_value = sim_value_numerator/sim_value_denominator\n",
    "            \n",
    "            w_matrix.append(pd.Series([movie_1, movie_2, sim_value], index=w_matrix_columns), ignore_index=True)\n",
    "            \n",
    "        i = i + 1\n",
    "            \n",
    "            \n",
    "            \n",
    "    \n",
    "    \n",
    "    \n",
    "    \n",
    "    \n",
    "    \n",
    "    \n",
    "    \n",
    "    \n",
    "    \n",
    "    \n",
    "    \n",
    "    \n",
    "    \n",
    "    \n",
    "    \n",
    "    \n",
    "    \n",
    "    \n",
    "    \n",
    "    \n",
    "    \n",
    "    \n",
    "    \n",
    "    \n",
    "    \n"
   ]
  },
  {
   "cell_type": "code",
   "execution_count": null,
   "metadata": {},
   "outputs": [],
   "source": []
  }
 ],
 "metadata": {
  "kernelspec": {
   "display_name": "Python 2",
   "language": "python",
   "name": "python2"
  },
  "language_info": {
   "codemirror_mode": {
    "name": "ipython",
    "version": 2
   },
   "file_extension": ".py",
   "mimetype": "text/x-python",
   "name": "python",
   "nbconvert_exporter": "python",
   "pygments_lexer": "ipython2",
   "version": "2.7.6"
  }
 },
 "nbformat": 4,
 "nbformat_minor": 0
}
